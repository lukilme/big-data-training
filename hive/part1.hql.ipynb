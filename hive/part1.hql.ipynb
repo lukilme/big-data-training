{
 "cells": [
  {
   "cell_type": "code",
   "execution_count": null,
   "metadata": {},
   "outputs": [],
   "source": [
    "import pandas as pd\n",
    "from pyhive import hive\n",
    "\n",
    "def execute_query(cursor, query, fetch=False):\n",
    "    try:\n",
    "        cursor.execute(query)\n",
    "        if fetch:\n",
    "            return cursor.fetchall()\n",
    "    except Exception as e:\n",
    "        print(e)\n",
    "        return e\n",
    "\n",
    "conn = hive.Connection(host=\"localhost\", port=10000, username=\"hive\")\n",
    "cursor = conn.cursor()\n",
    "\n",
    "execute_query(cursor, '''\n",
    "SHOW DATABASES\n",
    "''', True)"
   ]
  },
  {
   "cell_type": "code",
   "execution_count": 12,
   "metadata": {},
   "outputs": [],
   "source": [
    "execute_query(cursor, '''\n",
    "CREATE DATABASE IF NOT EXISTS course\n",
    "''')\n",
    "\n",
    "execute_query(cursor, '''\n",
    "USE course\n",
    "''')\n",
    "\n",
    "execute_query(cursor, '''\n",
    "CREATE TABLE IF NOT EXISTS my_table (\n",
    "    col1 STRING,\n",
    "    col2 ARRAY<STRING>,\n",
    "    col3 STRING,\n",
    "    col4 INT\n",
    ")\n",
    "ROW FORMAT DELIMITED\n",
    "FIELDS TERMINATED BY '.'\n",
    "COLLECTION ITEMS TERMINATED BY ':'\n",
    "LINES TERMINATED BY '\\\\n'\n",
    "STORED AS TEXTFILE\n",
    "''')"
   ]
  },
  {
   "cell_type": "markdown",
   "metadata": {},
   "source": [
    "### Activity 1\n",
    "1. Study the structure of data then use create statement to create a table with necessary number of columns.\n",
    "2. Load the data into table.\n",
    "3. View data in tables after loading."
   ]
  },
  {
   "cell_type": "code",
   "execution_count": 48,
   "metadata": {},
   "outputs": [],
   "source": [
    "execute_query(cursor, '''\n",
    "SET hive.exec.dynamic.partition=true\n",
    "''',False)\n",
    "\n",
    "execute_query(cursor, '''\n",
    "SET hive.exec.dynamic.partition.mode=nonstrict\n",
    "''',False)"
   ]
  },
  {
   "cell_type": "code",
   "execution_count": null,
   "metadata": {},
   "outputs": [],
   "source": [
    "execute_query(cursor, '''\n",
    "CREATE TABLE IF NOT EXISTS orders (\n",
    "    cust_id VARCHAR(20),\n",
    "    cust_name VARCHAR(50),\n",
    "    odr_date STRING,\n",
    "    ship_date STRING,\n",
    "    courier VARCHAR(20),\n",
    "    recvd_date STRING,\n",
    "    returned VARCHAR(5),\n",
    "    returned_date STRING,\n",
    "    return_reason VARCHAR(50)\n",
    ") \n",
    "PARTITIONED BY (cust_name STRING, returned STRING)  \n",
    "ROW FORMAT DELIMITED \n",
    "FIELDS TERMINATED BY \",\" \n",
    "LINES TERMINATED BY \"\\n\" \n",
    "STORED AS TEXTFILE\n",
    "TBLPROPERTIES(\"skip.header.line.count\"=\"1\");\n",
    "''')"
   ]
  },
  {
   "cell_type": "code",
   "execution_count": 14,
   "metadata": {},
   "outputs": [
    {
     "data": {
      "text/html": [
       "<div>\n",
       "<style scoped>\n",
       "    .dataframe tbody tr th:only-of-type {\n",
       "        vertical-align: middle;\n",
       "    }\n",
       "\n",
       "    .dataframe tbody tr th {\n",
       "        vertical-align: top;\n",
       "    }\n",
       "\n",
       "    .dataframe thead th {\n",
       "        text-align: right;\n",
       "    }\n",
       "</style>\n",
       "<table border=\"1\" class=\"dataframe\">\n",
       "  <thead>\n",
       "    <tr style=\"text-align: right;\">\n",
       "      <th></th>\n",
       "    </tr>\n",
       "  </thead>\n",
       "  <tbody>\n",
       "  </tbody>\n",
       "</table>\n",
       "</div>"
      ],
      "text/plain": [
       "Empty DataFrame\n",
       "Columns: []\n",
       "Index: []"
      ]
     },
     "execution_count": 14,
     "metadata": {},
     "output_type": "execute_result"
    }
   ],
   "source": [
    "pd.DataFrame(execute_query(cursor, '''\n",
    "SELECT * FROM orders\n",
    "''', True))"
   ]
  },
  {
   "cell_type": "code",
   "execution_count": null,
   "metadata": {},
   "outputs": [],
   "source": [
    "pd.DataFrame(execute_query(cursor, '''\n",
    "SET -v\n",
    "''', True))"
   ]
  },
  {
   "cell_type": "code",
   "execution_count": 56,
   "metadata": {},
   "outputs": [],
   "source": [
    "execute_query(cursor, '''\n",
    "select * from orders\n",
    "''',True)"
   ]
  },
  {
   "cell_type": "code",
   "execution_count": 58,
   "metadata": {},
   "outputs": [
    {
     "name": "stdout",
     "output_type": "stream",
     "text": [
      "TExecuteStatementResp(status=TStatus(statusCode=3, infoMessages=['Server-side error; please check HS2 logs.'], sqlState='42000', errorCode=40000, errorMessage=\"Error while compiling statement: FAILED: ParseException line 3:17 cannot recognize input near 'orders' ';' '<EOF>' in table name\"), operationHandle=None)\n"
     ]
    },
    {
     "data": {
      "text/plain": [
       "pyhive.exc.OperationalError(TExecuteStatementResp(status=TStatus(statusCode=3, infoMessages=['Server-side error; please check HS2 logs.'], sqlState='42000', errorCode=40000, errorMessage=\"Error while compiling statement: FAILED: ParseException line 3:17 cannot recognize input near 'orders' ';' '<EOF>' in table name\"), operationHandle=None))"
      ]
     },
     "execution_count": 58,
     "metadata": {},
     "output_type": "execute_result"
    }
   ],
   "source": [
    "execute_query(cursor, '''\n",
    "LOAD DATA LOCAL INPATH '/opt/hive/assignment_create_table_2018.txt' \n",
    "INTO TABLE orders;\n",
    "''')"
   ]
  },
  {
   "cell_type": "code",
   "execution_count": null,
   "metadata": {},
   "outputs": [],
   "source": [
    "execute_query(cursor, '''\n",
    "select concat(cust_id, '-', cust_name, '-', courier) from orders limit 5\n",
    "''', True)"
   ]
  },
  {
   "cell_type": "code",
   "execution_count": null,
   "metadata": {},
   "outputs": [],
   "source": [
    "execute_query(cursor, '''\n",
    "SHOW PARTITIONS orders\n",
    "''', True)"
   ]
  },
  {
   "cell_type": "markdown",
   "metadata": {},
   "source": [
    "- RANK(): Quando você quer observar as lacunas causadas por empates.\n",
    "- DENSE_RANK(): Quando você quer uma sequência contínua, mesmo com empates.\n",
    "- ROW_NUMBER(): Quando precisa de números únicos para cada linha.\n",
    "### Activity 2\n",
    "1. Calculate the Maximum Buy rate.\n",
    "2. Calculate average sell rate.\n",
    "3. Calculate average buy rate."
   ]
  },
  {
   "cell_type": "code",
   "execution_count": 33,
   "metadata": {},
   "outputs": [
    {
     "data": {
      "text/plain": [
       "[('RNMM302671MC', 'Oil', 3.0, 20.0, 613, 452, 2002),\n",
       " ('UFBG160794BK', 'Face_Wash', 5.0, 21.0, 755, 471, 2001),\n",
       " ('RIEQ544903EP', 'Soap', 4.0, 18.0, 742, 492, 2009),\n",
       " ('HFJY800951JK', 'Tooth_Brush', 7.0, 16.0, 870, 497, 2005),\n",
       " ('EKMJ507797MG', 'Face_Wash', 6.0, 13.0, 848, 469, 2005)]"
      ]
     },
     "execution_count": 33,
     "metadata": {},
     "output_type": "execute_result"
    }
   ],
   "source": [
    "execute_query(cursor, '''\n",
    "CREATE TABLE IF NOT EXISTS market (\n",
    "    ID VARCHAR(12),\n",
    "    name STRING,\n",
    "    buyprice FLOAT,\n",
    "    sellprice FLOAT,\n",
    "    units_purchsed INT,\n",
    "    units_sold INT,\n",
    "    year INT\n",
    ") \n",
    "row format delimited fields terminated by \",\"\n",
    "lines terminated by \"\\n\" \n",
    "stored as textfile tblproperties(\"skip.header.line.count\"=\"1\")\n",
    "''')\n",
    "execute_query(cursor, '''\n",
    "LOAD DATA LOCAL INPATH '/opt/hive/hive-assignment-2_2018new.txt' INTO TABLE market\n",
    "''')\n",
    "execute_query(cursor, '''\n",
    "select * from market limit 5\n",
    "''', True)"
   ]
  },
  {
   "cell_type": "code",
   "execution_count": 28,
   "metadata": {},
   "outputs": [
    {
     "name": "stdout",
     "output_type": "stream",
     "text": [
      "buy rate =  ('Soap', 503)\n",
      "avg sell =  449.4757834757835\n",
      "avg buy =  755.4501424501425\n"
     ]
    }
   ],
   "source": [
    "\n",
    "buy_rate = execute_query(cursor, '''\n",
    "select name,units_purchsed from market order by units_purchsed limit 1\n",
    "''', True)\n",
    "print('buy rate = ',buy_rate[0])\n",
    "avg_sell=execute_query(cursor, '''\n",
    "select avg(units_sold) from market\n",
    "''', True)\n",
    "print('avg sell = ',avg_sell[0][0])\n",
    "avg_buy = execute_query(cursor, '''\n",
    "select avg(units_purchsed) from market\n",
    "''', True)\n",
    "print('avg buy = ',avg_buy[0][0])"
   ]
  },
  {
   "cell_type": "code",
   "execution_count": 51,
   "metadata": {},
   "outputs": [],
   "source": [
    "execute_query(cursor, '''\n",
    "drop table orders\n",
    "''', False)"
   ]
  }
 ],
 "metadata": {
  "kernelspec": {
   "display_name": "Python 3",
   "language": "python",
   "name": "python3"
  },
  "language_info": {
   "codemirror_mode": {
    "name": "ipython",
    "version": 3
   },
   "file_extension": ".py",
   "mimetype": "text/x-python",
   "name": "python",
   "nbconvert_exporter": "python",
   "pygments_lexer": "ipython3",
   "version": "3.12.7"
  }
 },
 "nbformat": 4,
 "nbformat_minor": 2
}
